{
 "cells": [
  {
   "cell_type": "markdown",
   "metadata": {},
   "source": [
    "# Topic 6: Linear Algebra with NumPy"
   ]
  },
  {
   "cell_type": "code",
   "execution_count": 1,
   "metadata": {},
   "outputs": [],
   "source": [
    "import numpy as np"
   ]
  },
  {
   "cell_type": "markdown",
   "metadata": {},
   "source": [
    "## Task 1"
   ]
  },
  {
   "cell_type": "code",
   "execution_count": 2,
   "metadata": {},
   "outputs": [
    {
     "data": {
      "text/plain": [
       "array([[ 30,  24,  18],\n",
       "       [ 84,  69,  54],\n",
       "       [138, 114,  90]])"
      ]
     },
     "execution_count": 2,
     "metadata": {},
     "output_type": "execute_result"
    }
   ],
   "source": [
    "A = np.array([\n",
    "    [1, 2, 3],\n",
    "    [4, 5, 6],\n",
    "    [7, 8, 9]\n",
    "])\n",
    "\n",
    "B = np.array([\n",
    "    [9, 8, 7],\n",
    "    [6, 5, 4],\n",
    "    [3, 2, 1]\n",
    "])\n",
    "\n",
    "A.dot(B)"
   ]
  },
  {
   "cell_type": "markdown",
   "metadata": {},
   "source": [
    "## Task 2"
   ]
  },
  {
   "cell_type": "code",
   "execution_count": 4,
   "metadata": {},
   "outputs": [
    {
     "data": {
      "text/plain": [
       "np.float64(-20.000000000000007)"
      ]
     },
     "execution_count": 4,
     "metadata": {},
     "output_type": "execute_result"
    }
   ],
   "source": [
    "A = np.array([\n",
    "    [2, 5, 3],\n",
    "    [1, -2, -1],\n",
    "    [1, 3, 4]\n",
    "])\n",
    "\n",
    "def det_cal(arr):\n",
    "    return np.linalg.det(arr)\n",
    "\n",
    "det_cal(A)"
   ]
  },
  {
   "cell_type": "markdown",
   "metadata": {},
   "source": [
    "## TAsk 3"
   ]
  },
  {
   "cell_type": "code",
   "execution_count": 7,
   "metadata": {},
   "outputs": [
    {
     "data": {
      "text/plain": [
       "array([[ 2.00000000e-01, -4.00000000e-01,  2.00000000e-01,\n",
       "        -4.16333634e-17],\n",
       "       [ 2.00000000e-01, -2.00000000e-01, -2.00000000e-01,\n",
       "         2.00000000e-01],\n",
       "       [ 2.00000000e+00, -2.40000000e+00, -2.00000000e-01,\n",
       "        -4.00000000e-01],\n",
       "       [-1.40000000e+00,  2.00000000e+00,  2.00000000e-01,\n",
       "         2.00000000e-01]])"
      ]
     },
     "execution_count": 7,
     "metadata": {},
     "output_type": "execute_result"
    }
   ],
   "source": [
    "A = np.array([\n",
    "    [1, 2, 3, 4],\n",
    "    [0, 1, 2, 3],\n",
    "    [4, 0, 1, 2],\n",
    "    [3, 4, 0, 1]\n",
    "])\n",
    "def calc_inv(A):\n",
    "    det_a= np.linalg.det(A)\n",
    "    if np.isclose(det_a,0):\n",
    "        print(\"Its singular\")\n",
    "        return None\n",
    "    return np.linalg.inv(A)\n",
    "calc_inv(A)"
   ]
  },
  {
   "cell_type": "markdown",
   "metadata": {},
   "source": [
    "## Task  4"
   ]
  },
  {
   "cell_type": "code",
   "execution_count": 10,
   "metadata": {},
   "outputs": [
    {
     "name": "stdout",
     "output_type": "stream",
     "text": [
      "[1. 2.]\n",
      "checking\n"
     ]
    },
    {
     "data": {
      "text/plain": [
       "array([ 8., 11.])"
      ]
     },
     "execution_count": 10,
     "metadata": {},
     "output_type": "execute_result"
    }
   ],
   "source": [
    "# Coefficient matrix\n",
    "A = np.array([[2, 3],\n",
    "              [3, 4]])\n",
    "\n",
    "# Right-hand side constants\n",
    "B = np.array([8, 11])\n",
    "X=np.linalg.solve(A,B)\n",
    "print(X)\n",
    "print(\"checking\")\n",
    "A@X"
   ]
  },
  {
   "cell_type": "markdown",
   "metadata": {},
   "source": [
    "## Task 5"
   ]
  },
  {
   "cell_type": "code",
   "execution_count": 13,
   "metadata": {},
   "outputs": [
    {
     "data": {
      "text/plain": [
       "(array([0.58578644, 2.        , 3.41421356]),\n",
       " array([[-5.00000000e-01, -7.07106781e-01,  5.00000000e-01],\n",
       "        [-7.07106781e-01,  4.37150316e-16, -7.07106781e-01],\n",
       "        [-5.00000000e-01,  7.07106781e-01,  5.00000000e-01]]))"
      ]
     },
     "execution_count": 13,
     "metadata": {},
     "output_type": "execute_result"
    }
   ],
   "source": [
    "A = np.array([\n",
    "    [2, -1, 0],\n",
    "    [-1, 2, -1],\n",
    "    [0, -1, 2]\n",
    "])\n",
    "eigenval, eigenvector=np.linalg.eigh(A)\n",
    "eigenval, eigenvector"
   ]
  },
  {
   "cell_type": "markdown",
   "metadata": {},
   "source": [
    "## Task 6"
   ]
  },
  {
   "cell_type": "code",
   "execution_count": 14,
   "metadata": {},
   "outputs": [
    {
     "name": "stdout",
     "output_type": "stream",
     "text": [
      "U: [[-0.2298477   0.88346102  0.40824829]\n",
      " [-0.52474482  0.24078249 -0.81649658]\n",
      " [-0.81964194 -0.40189603  0.40824829]]\n",
      "Singular Values: [9.52551809 0.51430058]\n",
      "V^T: [[-0.61962948 -0.78489445]\n",
      " [-0.78489445  0.61962948]]\n"
     ]
    }
   ],
   "source": [
    "A = np.array([\n",
    "    [1, 2],\n",
    "    [3, 4],\n",
    "    [5, 6]\n",
    "])\n",
    "U, S, VT = np.linalg.svd(A)\n",
    "\n",
    "print(\"U:\", U)\n",
    "print(\"Singular Values:\", S)\n",
    "print(\"V^T:\", VT)"
   ]
  },
  {
   "cell_type": "markdown",
   "metadata": {},
   "source": [
    "## Task 7"
   ]
  },
  {
   "cell_type": "code",
   "execution_count": 15,
   "metadata": {},
   "outputs": [
    {
     "data": {
      "text/plain": [
       "np.int64(2)"
      ]
     },
     "execution_count": 15,
     "metadata": {},
     "output_type": "execute_result"
    }
   ],
   "source": [
    "A = np.array([\n",
    "    [1, 2, 3],\n",
    "    [4, 5, 6],\n",
    "    [7, 8, 9]\n",
    "])\n",
    "np.linalg.matrix_rank(A)"
   ]
  },
  {
   "cell_type": "markdown",
   "metadata": {},
   "source": [
    "## Task 8"
   ]
  },
  {
   "cell_type": "code",
   "execution_count": 17,
   "metadata": {},
   "outputs": [
    {
     "name": "stdout",
     "output_type": "stream",
     "text": [
      "[0.40005896 0.80915313 0.26019025]\n",
      "[0.92465708 0.22166758 0.67938877]\n",
      "0.7260506994650872\n",
      "[ 0.4920538  -0.03120881 -0.65950907]\n"
     ]
    }
   ],
   "source": [
    "vec1 = np.random.rand(3)\n",
    "vec2 = np.random.rand(3)\n",
    "print(vec1)\n",
    "print(vec2)\n",
    "\n",
    "print(vec1.dot(vec2))\n",
    "print(np.cross(vec1, vec2))"
   ]
  }
 ],
 "metadata": {
  "kernelspec": {
   "display_name": "tech-axis",
   "language": "python",
   "name": "python3"
  },
  "language_info": {
   "codemirror_mode": {
    "name": "ipython",
    "version": 3
   },
   "file_extension": ".py",
   "mimetype": "text/x-python",
   "name": "python",
   "nbconvert_exporter": "python",
   "pygments_lexer": "ipython3",
   "version": "3.11.11"
  }
 },
 "nbformat": 4,
 "nbformat_minor": 2
}
