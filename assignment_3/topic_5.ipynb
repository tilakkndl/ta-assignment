{
 "cells": [
  {
   "cell_type": "markdown",
   "metadata": {},
   "source": [
    "# Topic 5 :Working with Missing Data in NumPy"
   ]
  },
  {
   "cell_type": "code",
   "execution_count": 1,
   "metadata": {},
   "outputs": [],
   "source": [
    "import numpy as np"
   ]
  },
  {
   "cell_type": "markdown",
   "metadata": {},
   "source": [
    "## Task 1"
   ]
  },
  {
   "cell_type": "code",
   "execution_count": 2,
   "metadata": {},
   "outputs": [
    {
     "data": {
      "text/plain": [
       "array([False, False,  True, False,  True, False])"
      ]
     },
     "execution_count": 2,
     "metadata": {},
     "output_type": "execute_result"
    }
   ],
   "source": [
    "\n",
    "arr = np.array([1.0, 2.5, np.nan, 4.7, np.nan, 6.0])\n",
    "np.isnan(arr)"
   ]
  },
  {
   "cell_type": "markdown",
   "metadata": {},
   "source": [
    "## TAsk 2"
   ]
  },
  {
   "cell_type": "code",
   "execution_count": 3,
   "metadata": {},
   "outputs": [
    {
     "data": {
      "text/plain": [
       "(array([1. , 2.5, nan, 4.7, nan, 6. ]),\n",
       " array([ 1. ,  2.5, -1. ,  4.7, -1. ,  6. ]))"
      ]
     },
     "execution_count": 3,
     "metadata": {},
     "output_type": "execute_result"
    }
   ],
   "source": [
    "arr = np.array([1.0, 2.5, np.nan, 4.7, np.nan, 6.0])\n",
    "arr_mod=np.where(np.isnan(arr),-1, arr )\n",
    "arr, arr_mod"
   ]
  },
  {
   "cell_type": "markdown",
   "metadata": {},
   "source": [
    "## Task 3"
   ]
  },
  {
   "cell_type": "code",
   "execution_count": 4,
   "metadata": {},
   "outputs": [
    {
     "data": {
      "text/plain": [
       "array([[1., 2., 3.],\n",
       "       [7., 8., 9.]])"
      ]
     },
     "execution_count": 4,
     "metadata": {},
     "output_type": "execute_result"
    }
   ],
   "source": [
    "arr = np.array([\n",
    "    [1.0, 2.0, 3.0],\n",
    "    [4.0, np.nan, 6.0],\n",
    "    [7.0, 8.0, 9.0],\n",
    "    [np.nan, 11.0, 12.0]\n",
    "])\n",
    "\n",
    "def remove_nan(arr):\n",
    "    return arr[~np.isnan(arr).any(axis=1)]\n",
    "\n",
    "clean_arr=remove_nan(arr)\n",
    "clean_arr"
   ]
  },
  {
   "cell_type": "markdown",
   "metadata": {},
   "source": [
    "## Task 4"
   ]
  },
  {
   "cell_type": "code",
   "execution_count": 5,
   "metadata": {},
   "outputs": [
    {
     "name": "stdout",
     "output_type": "stream",
     "text": [
      "[ 1. nan  3. nan  5.  6.]\n"
     ]
    },
    {
     "data": {
      "text/plain": [
       "array([1., 2., 3., 4., 5., 6.])"
      ]
     },
     "execution_count": 5,
     "metadata": {},
     "output_type": "execute_result"
    }
   ],
   "source": [
    "arr = np.array([1.0, np.nan, 3.0, np.nan, 5.0, 6.0])\n",
    "print(arr)\n",
    "def interpolate_arr(arr):\n",
    "    nans=np.isnan(arr)\n",
    "    indices=np.arange(len(arr))\n",
    "    arr[nans]=np.interp(indices[nans], indices[~nans],arr[~nans])\n",
    "    return arr\n",
    "\n",
    "inte_arr=interpolate_arr(arr)\n",
    "inte_arr"
   ]
  },
  {
   "cell_type": "markdown",
   "metadata": {},
   "source": [
    "## Task 5"
   ]
  },
  {
   "cell_type": "code",
   "execution_count": 10,
   "metadata": {},
   "outputs": [
    {
     "name": "stdout",
     "output_type": "stream",
     "text": [
      "[0 1 1 3 3 5 6 6]\n",
      "[nan  1. nan  3. nan  5.  6. nan]\n"
     ]
    },
    {
     "data": {
      "text/plain": [
       "array([ 1.,  1.,  3.,  3.,  5.,  5.,  6., nan])"
      ]
     },
     "execution_count": 10,
     "metadata": {},
     "output_type": "execute_result"
    }
   ],
   "source": [
    "arr = np.array([np.nan, 1.0, np.nan, 3.0, np.nan, 5.0, 6.0, np.nan])\n",
    "def forward_fill(arr):\n",
    "    mask=np.isnan(arr)\n",
    "    filled=arr.copy()\n",
    "    # print(filled[~mask])\n",
    "    index=np.arange(len(filled))\n",
    "    # filled[mask]= filled[~mask][np.minimum.accumulate(np.where(~mask, index, 0 ))]\n",
    "    # print(np.where(~mask, index, 0))\n",
    "    ff_mimic=np.maximum.accumulate(np.where(~mask, index, 0))\n",
    "    print(ff_mimic)\n",
    "    # print(filled[~mask][ff_mimic])\n",
    "    # filled[mask]=filled[~mask][np.maximum.accumulate(np.where(~mask, index, 0))]\n",
    "    filled[mask] = filled[np.maximum.accumulate(np.where(~mask, index, 0))][mask]\n",
    "    \n",
    "\n",
    "    return filled\n",
    "\n",
    "def backward_fill(arr):\n",
    "    mask = np.isnan(arr)\n",
    "    filled = arr.copy()\n",
    "    index = np.arange(len(arr))\n",
    "\n",
    "    select_index = np.where(~mask, index, len(arr)-1)\n",
    "    \n",
    "    bb_mmic = np.minimum.accumulate(select_index[::-1])[::-1]\n",
    "    \n",
    "    filled[mask] = filled[bb_mmic][mask]\n",
    "    \n",
    "    return filled\n",
    "\n",
    "forward_fill(arr)\n",
    "print(arr)\n",
    "backward_fill(arr)"
   ]
  },
  {
   "cell_type": "markdown",
   "metadata": {},
   "source": [
    "## Task 6"
   ]
  },
  {
   "cell_type": "code",
   "execution_count": 14,
   "metadata": {},
   "outputs": [
    {
     "data": {
      "text/plain": [
       "array([120])"
      ]
     },
     "execution_count": 14,
     "metadata": {},
     "output_type": "execute_result"
    }
   ],
   "source": [
    "arr = np.array([10, 12, 13, 12, 14, 13, 15, 120]) \n",
    "def detect_outler(arr):\n",
    "    q1=np.percentile(arr,25)\n",
    "    q3=np.percentile(arr,75)\n",
    "    iqr=q3-q1\n",
    "    lower_bound=q1-1.5*iqr\n",
    "    upper_bound=q3+1.5*iqr\n",
    "    outliers=arr[(arr<lower_bound) | (arr>upper_bound)]\n",
    "    return outliers\n",
    "detect_outler(arr)"
   ]
  },
  {
   "cell_type": "markdown",
   "metadata": {},
   "source": [
    "## Task 7"
   ]
  },
  {
   "cell_type": "code",
   "execution_count": 17,
   "metadata": {},
   "outputs": [
    {
     "name": "stdout",
     "output_type": "stream",
     "text": [
      "[4. 5. 6.]\n"
     ]
    },
    {
     "data": {
      "text/plain": [
       "array([[1., 2., 6.],\n",
       "       [4., 5., 6.],\n",
       "       [7., 8., 9.],\n",
       "       [4., 5., 3.]])"
      ]
     },
     "execution_count": 17,
     "metadata": {},
     "output_type": "execute_result"
    }
   ],
   "source": [
    "arr = np.array([\n",
    "    [1.0, 2.0, np.nan],\n",
    "    [4.0, np.nan, 6.0],\n",
    "    [7.0, 8.0, 9.0],\n",
    "    [np.nan, 5.0, 3.0]\n",
    "])\n",
    "\n",
    "col_median=np.nanmedian(arr, axis=0)\n",
    "print(col_median)\n",
    "arr=np.where(np.isnan(arr), col_median, arr)\n",
    "arr"
   ]
  }
 ],
 "metadata": {
  "kernelspec": {
   "display_name": "tech-axis",
   "language": "python",
   "name": "python3"
  },
  "language_info": {
   "codemirror_mode": {
    "name": "ipython",
    "version": 3
   },
   "file_extension": ".py",
   "mimetype": "text/x-python",
   "name": "python",
   "nbconvert_exporter": "python",
   "pygments_lexer": "ipython3",
   "version": "3.11.11"
  }
 },
 "nbformat": 4,
 "nbformat_minor": 2
}
