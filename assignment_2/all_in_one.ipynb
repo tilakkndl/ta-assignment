{
 "cells": [
  {
   "cell_type": "markdown",
   "metadata": {},
   "source": [
    "## Topic 1"
   ]
  },
  {
   "cell_type": "markdown",
   "metadata": {},
   "source": [
    "### Task 1"
   ]
  },
  {
   "cell_type": "code",
   "execution_count": 1,
   "metadata": {},
   "outputs": [],
   "source": [
    "def even_number(l):\n",
    "    return [el for el in l if el % 2 == 0]"
   ]
  },
  {
   "cell_type": "code",
   "execution_count": 2,
   "metadata": {},
   "outputs": [
    {
     "data": {
      "text/plain": [
       "[2, 4, 6]"
      ]
     },
     "execution_count": 2,
     "metadata": {},
     "output_type": "execute_result"
    }
   ],
   "source": [
    "even_number([1, 2, 3, 4, 5, 6])"
   ]
  },
  {
   "cell_type": "markdown",
   "metadata": {},
   "source": [
    "### Task 2"
   ]
  },
  {
   "cell_type": "code",
   "execution_count": 3,
   "metadata": {},
   "outputs": [
    {
     "data": {
      "text/plain": [
       "[50, 40, 30, 20, 10]"
      ]
     },
     "execution_count": 3,
     "metadata": {},
     "output_type": "execute_result"
    }
   ],
   "source": [
    "nums = [10, 20, 30, 40, 50]\n",
    "# reverse using slicing\n",
    "reverse_using_slicing=nums[::-1]\n",
    "reverse_using_slicing"
   ]
  },
  {
   "cell_type": "code",
   "execution_count": 4,
   "metadata": {},
   "outputs": [
    {
     "data": {
      "text/plain": [
       "[10, 30, 40, 50]"
      ]
     },
     "execution_count": 4,
     "metadata": {},
     "output_type": "execute_result"
    }
   ],
   "source": [
    "# remove 2nd element\n",
    "nums.pop(1)\n",
    "nums"
   ]
  },
  {
   "cell_type": "code",
   "execution_count": 5,
   "metadata": {},
   "outputs": [
    {
     "data": {
      "text/plain": [
       "[10, 30, 25, 40, 50]"
      ]
     },
     "execution_count": 5,
     "metadata": {},
     "output_type": "execute_result"
    }
   ],
   "source": [
    "# insert at index 2\n",
    "nums.insert(2, 25)\n",
    "nums"
   ]
  },
  {
   "cell_type": "markdown",
   "metadata": {},
   "source": [
    "### TAsk 3"
   ]
  },
  {
   "cell_type": "code",
   "execution_count": 6,
   "metadata": {},
   "outputs": [
    {
     "data": {
      "text/plain": [
       "[1, 2, 3, 4, 5, 6]"
      ]
     },
     "execution_count": 6,
     "metadata": {},
     "output_type": "execute_result"
    }
   ],
   "source": [
    "# flatten a list\n",
    "list1=[[1,2], [3,4], [5,6]]\n",
    "flatten_list_result = []\n",
    "def flatten_list(list1):\n",
    "    for flatten in list1:\n",
    "        for ftn in flatten:\n",
    "            flatten_list_result.append(ftn)\n",
    "\n",
    "flatten_list(list1)\n",
    "flatten_list_result"
   ]
  },
  {
   "cell_type": "markdown",
   "metadata": {},
   "source": [
    "### Task 4"
   ]
  },
  {
   "cell_type": "code",
   "execution_count": 7,
   "metadata": {},
   "outputs": [
    {
     "name": "stdout",
     "output_type": "stream",
     "text": [
      "Positiv enumber\n"
     ]
    }
   ],
   "source": [
    "#take input\n",
    "number=int(input(\"Enter a number\"))\n",
    "if number==0:\n",
    "    print(\"Zero\")\n",
    "elif number>0:\n",
    "    print(\"Positiv enumber\")\n",
    "else:\n",
    "    print(\"Negative\")"
   ]
  },
  {
   "cell_type": "markdown",
   "metadata": {},
   "source": [
    "### Task 5"
   ]
  },
  {
   "cell_type": "code",
   "execution_count": 8,
   "metadata": {},
   "outputs": [
    {
     "data": {
      "text/plain": [
       "[1, 2, 3, 4, 5, 6, 7]"
      ]
     },
     "execution_count": 8,
     "metadata": {},
     "output_type": "execute_result"
    }
   ],
   "source": [
    "l1=[1, 2, 3, 4]\n",
    "l2=[5, 6, 7]\n",
    "l3=[]\n",
    "for i in range(len(l1)):\n",
    "    l3.append(l1[i])\n",
    "\n",
    "for j in range(len(l2)):\n",
    "    l3.append(l2[j])\n",
    "l3"
   ]
  },
  {
   "cell_type": "markdown",
   "metadata": {},
   "source": [
    "### TAsk 6"
   ]
  },
  {
   "cell_type": "code",
   "execution_count": 9,
   "metadata": {},
   "outputs": [
    {
     "name": "stdout",
     "output_type": "stream",
     "text": [
      "The second largest 55\n"
     ]
    }
   ],
   "source": [
    "l1=[1, 3, 5,55, 9, 100]\n",
    "l1_set=set(l1)\n",
    "l1.sort(reverse=True)\n",
    "if(len(l1)>=2):\n",
    "    print(f\"The second largest {l1[1]}\")\n",
    "else:\n",
    "    print(\"It doens't contain 2 elements\")"
   ]
  },
  {
   "cell_type": "markdown",
   "metadata": {},
   "source": [
    "# Topic 2 :Tuples & Sets"
   ]
  },
  {
   "cell_type": "markdown",
   "metadata": {},
   "source": [
    "### Task 1"
   ]
  },
  {
   "cell_type": "code",
   "execution_count": 10,
   "metadata": {},
   "outputs": [
    {
     "data": {
      "text/plain": [
       "3"
      ]
     },
     "execution_count": 10,
     "metadata": {},
     "output_type": "execute_result"
    }
   ],
   "source": [
    "l1=(1,1,1,1,2,2,2)\n",
    "l1_set=set(l1)\n",
    "sum(l1_set)"
   ]
  },
  {
   "cell_type": "markdown",
   "metadata": {},
   "source": [
    "### Task 2"
   ]
  },
  {
   "cell_type": "code",
   "execution_count": 11,
   "metadata": {},
   "outputs": [
    {
     "data": {
      "text/plain": [
       "{1, 2, 3}"
      ]
     },
     "execution_count": 11,
     "metadata": {},
     "output_type": "execute_result"
    }
   ],
   "source": [
    "l1=set([1, 2, 3, 4, 5])\n",
    "l2=set([4, 5, 6, 7])\n",
    "l1.intersection(l2) #l1 & l2\n",
    "l1.union(l2) #l1 | l2\n",
    "l1.difference(l2) #l1-l2"
   ]
  },
  {
   "cell_type": "markdown",
   "metadata": {},
   "source": [
    "### Task 3"
   ]
  },
  {
   "cell_type": "code",
   "execution_count": 12,
   "metadata": {},
   "outputs": [
    {
     "data": {
      "text/plain": [
       "(1, 2, 3, [4, 5, 7], 6)"
      ]
     },
     "execution_count": 12,
     "metadata": {},
     "output_type": "execute_result"
    }
   ],
   "source": [
    "t = (1, 2, 3, [4, 5], 6)\n",
    "t[3].append(7)\n",
    "t\n",
    "# here tuple is immutable but list which is inside tuple is mutable . so the above operation is possible"
   ]
  },
  {
   "cell_type": "markdown",
   "metadata": {},
   "source": [
    "### Task 4"
   ]
  },
  {
   "cell_type": "code",
   "execution_count": 13,
   "metadata": {},
   "outputs": [
    {
     "data": {
      "text/plain": [
       "False"
      ]
     },
     "execution_count": 13,
     "metadata": {},
     "output_type": "execute_result"
    }
   ],
   "source": [
    "def check_disjoint(l1, l2):\n",
    "    common_el=len((set(l1) & set(l2)))\n",
    "    return True if common_el else False\n",
    "\n",
    "l1=[1,2]\n",
    "l2=[3, 4,]\n",
    "check_disjoint(l1, l2)"
   ]
  },
  {
   "cell_type": "markdown",
   "metadata": {},
   "source": [
    "### Task 5"
   ]
  },
  {
   "cell_type": "code",
   "execution_count": 14,
   "metadata": {},
   "outputs": [
    {
     "data": {
      "text/plain": [
       "(15, 'dhayanbadlskslj')"
      ]
     },
     "execution_count": 14,
     "metadata": {},
     "output_type": "execute_result"
    }
   ],
   "source": [
    "t=(\"hello\", \"kxa\", \"sabthik\", \"dhayanbadlskslj\")\n",
    "max_len=len(t[0])\n",
    "word=t[0]\n",
    "for  x in t:\n",
    "    if(max_len<len(x)):\n",
    "        max_len=len(x)\n",
    "        word=x\n",
    "max_len, word"
   ]
  },
  {
   "cell_type": "markdown",
   "metadata": {},
   "source": [
    "# Topic 3 :Dictionaries"
   ]
  },
  {
   "cell_type": "markdown",
   "metadata": {},
   "source": [
    "### Task 1"
   ]
  },
  {
   "cell_type": "code",
   "execution_count": 15,
   "metadata": {},
   "outputs": [
    {
     "name": "stdout",
     "output_type": "stream",
     "text": [
      "{'this': 2, 'is': 2, 'a': 2, 'test': 3, 'only': 1}\n"
     ]
    },
    {
     "data": {
      "text/plain": [
       "'test'"
      ]
     },
     "execution_count": 15,
     "metadata": {},
     "output_type": "execute_result"
    }
   ],
   "source": [
    "text = \"This is a test. This test is only a test.\"\n",
    "text=text.lower().replace(\".\", \"\")\n",
    "cal_dict={}\n",
    "for x in text.split(\" \"):\n",
    "    if x in cal_dict:\n",
    "        cal_dict[x]+=1\n",
    "    else:\n",
    "        cal_dict[x]=1\n",
    "print(cal_dict)\n",
    "\n",
    "# let's sort the dictionary\n",
    "# sorted_dict=dict(sorted(cal_dict.items(), key= lambda x: x[1], reverse=True))\n",
    "max_word=max(cal_dict, key=cal_dict.get)\n",
    "max_word"
   ]
  },
  {
   "cell_type": "markdown",
   "metadata": {},
   "source": [
    "### Task 2"
   ]
  },
  {
   "cell_type": "code",
   "execution_count": 16,
   "metadata": {},
   "outputs": [
    {
     "data": {
      "text/plain": [
       "{'a': 2, 'b': 7, 'c': 6, 'd': 6}"
      ]
     },
     "execution_count": 16,
     "metadata": {},
     "output_type": "execute_result"
    }
   ],
   "source": [
    "d1 = {'a': 2, 'b': 3, 'c': 1}\n",
    "d2 = {'b': 4, 'c': 5, 'd': 6}\n",
    "\n",
    "def merge_dic(d1, d2):\n",
    "    result=d1.copy()\n",
    "    for key, val in d2.items():\n",
    "        if key in result:\n",
    "            result[key] += val\n",
    "        else:\n",
    "            result[key]=val\n",
    "    return result\n",
    "\n",
    "merge_dic(d1, d2)"
   ]
  },
  {
   "cell_type": "markdown",
   "metadata": {},
   "source": [
    "### Task 3"
   ]
  },
  {
   "cell_type": "code",
   "execution_count": 17,
   "metadata": {},
   "outputs": [
    {
     "data": {
      "text/plain": [
       "['Bob', 'David']"
      ]
     },
     "execution_count": 17,
     "metadata": {},
     "output_type": "execute_result"
    }
   ],
   "source": [
    "students = {\n",
    "    'Alice': 89,\n",
    "    'Bob': 95,\n",
    "    'Charlie': 78,\n",
    "    'David': 95,\n",
    "    'Eve': 88\n",
    "}\n",
    "\n",
    "max_marks= max(students.values())\n",
    "top_students=[ student for student, marks in students.items() if marks==max_marks]\n",
    "top_students\n"
   ]
  },
  {
   "cell_type": "markdown",
   "metadata": {},
   "source": [
    "### Task 4"
   ]
  },
  {
   "cell_type": "code",
   "execution_count": 18,
   "metadata": {},
   "outputs": [
    {
     "data": {
      "text/plain": [
       "{'name': 'Alice', 'grade': 'A'}"
      ]
     },
     "execution_count": 18,
     "metadata": {},
     "output_type": "execute_result"
    }
   ],
   "source": [
    "my_dict = {\n",
    "    'name': 'Alice',\n",
    "    'age': None,\n",
    "    'grade': 'A',\n",
    "    'email': None\n",
    "}\n",
    "\n",
    "def remove_none(dict):\n",
    "    return { key: value for key, value in dict.items() if value is not None }\n",
    "\n",
    "remove_none(my_dict)"
   ]
  },
  {
   "cell_type": "markdown",
   "metadata": {},
   "source": [
    "### Task 5"
   ]
  },
  {
   "cell_type": "code",
   "execution_count": 19,
   "metadata": {},
   "outputs": [
    {
     "data": {
      "text/plain": [
       "{'Bob': 95, 'David': 95, 'Alice': 89, 'Eve': 88, 'Charlie': 78}"
      ]
     },
     "execution_count": 19,
     "metadata": {},
     "output_type": "execute_result"
    }
   ],
   "source": [
    "students = {\n",
    "    'Alice': 89,\n",
    "    'Bob': 95,\n",
    "    'Charlie': 78,\n",
    "    'David': 95,\n",
    "    'Eve': 88\n",
    "}\n",
    "\n",
    "soted_dict = dict(sorted(students.items(), key=lambda x: x[1] , reverse=True))\n",
    "soted_dict"
   ]
  },
  {
   "cell_type": "markdown",
   "metadata": {},
   "source": [
    "### Task 6"
   ]
  },
  {
   "cell_type": "code",
   "execution_count": 20,
   "metadata": {},
   "outputs": [
    {
     "data": {
      "text/plain": [
       "['TV', 'Laptop', 'Smartphone']"
      ]
     },
     "execution_count": 20,
     "metadata": {},
     "output_type": "execute_result"
    }
   ],
   "source": [
    "products = {\n",
    "    'Laptop': 1200,\n",
    "    'Smartphone': 800,\n",
    "    'TV': 1500,\n",
    "    'Headphones': 300,\n",
    "    'Watch': 450\n",
    "}\n",
    "\n",
    "sorted_products=dict(sorted(products.items(), key = lambda x:x[1], reverse=True))\n",
    "top_3_product=list(sorted_products.keys())[:3]\n",
    "top_3_product"
   ]
  },
  {
   "cell_type": "markdown",
   "metadata": {},
   "source": [
    "# Topic 4 :String Manipulation & Regular Expressions"
   ]
  },
  {
   "cell_type": "markdown",
   "metadata": {},
   "source": [
    "### Task 1"
   ]
  },
  {
   "cell_type": "code",
   "execution_count": 21,
   "metadata": {},
   "outputs": [
    {
     "data": {
      "text/plain": [
       "'Hll Wrld, Pythn s wsm!'"
      ]
     },
     "execution_count": 21,
     "metadata": {},
     "output_type": "execute_result"
    }
   ],
   "source": [
    "import re\n",
    "input_str = \"Hello World, Python is awesome!\"\n",
    "def remove_vowels(text):\n",
    "    text=re.sub(r\"[aeiou]\", \"\", text)\n",
    "    return text\n",
    "remove_vowels(input_str)"
   ]
  },
  {
   "cell_type": "markdown",
   "metadata": {},
   "source": [
    "### Task 2"
   ]
  },
  {
   "cell_type": "code",
   "execution_count": 22,
   "metadata": {},
   "outputs": [
    {
     "name": "stdout",
     "output_type": "stream",
     "text": [
      "Valid phone numbers:\n",
      "123-456-7890\n",
      "555.555.5555\n",
      "1234567890\n"
     ]
    }
   ],
   "source": [
    "import re\n",
    "\n",
    "text = \"\"\"\n",
    "Contact us at 123-456-7890 or (987) 654-3210.\n",
    "Emergency: 555.555.5555\n",
    "Invalid: 123-45-6789, abc-123-4567\n",
    "Office: 1234567890\n",
    "\"\"\"\n",
    "\n",
    "pattern = r\"(\\d{3}[\\.-]?\\d{3}[\\.-]?\\d{4})\"\n",
    "\n",
    "valid_numbers = re.findall(pattern, text)\n",
    "\n",
    "print(\"Valid phone numbers:\")\n",
    "for number in valid_numbers:\n",
    "    print(number)\n"
   ]
  },
  {
   "cell_type": "markdown",
   "metadata": {},
   "source": [
    "### Task 3"
   ]
  },
  {
   "cell_type": "code",
   "execution_count": 23,
   "metadata": {},
   "outputs": [
    {
     "data": {
      "text/plain": [
       "{'0': 0,\n",
       " '1': 2,\n",
       " '2': 1,\n",
       " '3': 1,\n",
       " '4': 0,\n",
       " '5': 3,\n",
       " '6': 0,\n",
       " '7': 0,\n",
       " '8': 0,\n",
       " '9': 0}"
      ]
     },
     "execution_count": 23,
     "metadata": {},
     "output_type": "execute_result"
    }
   ],
   "source": [
    "input_str = \"Hello 123, I have 555 apples, and 1 banana.\"\n",
    "res={ str(i): 0 for i in range(10)}\n",
    "for x in input_str:\n",
    "    if x in res:\n",
    "        res[x]+=1\n",
    "res\n"
   ]
  },
  {
   "cell_type": "code",
   "execution_count": 24,
   "metadata": {},
   "outputs": [
    {
     "name": "stdout",
     "output_type": "stream",
     "text": [
      "['1', '2', '3', '5', '5', '5', '1']\n"
     ]
    },
    {
     "data": {
      "text/plain": [
       "{'0': 0,\n",
       " '1': 2,\n",
       " '2': 1,\n",
       " '3': 1,\n",
       " '4': 0,\n",
       " '5': 3,\n",
       " '6': 0,\n",
       " '7': 0,\n",
       " '8': 0,\n",
       " '9': 0}"
      ]
     },
     "execution_count": 24,
     "metadata": {},
     "output_type": "execute_result"
    }
   ],
   "source": [
    "# now using regex\n",
    "input_str = \"Hello 123, I have 555 apples, and 1 banana.\"\n",
    "numbers=re.findall(r\"\\d\", input_str)\n",
    "res={ str(i): 0 for i in range(10)}\n",
    "print(numbers)\n",
    "for x in numbers:\n",
    "    res[x]+=1\n",
    "res"
   ]
  },
  {
   "cell_type": "markdown",
   "metadata": {},
   "source": [
    "### Task 4"
   ]
  },
  {
   "cell_type": "code",
   "execution_count": 25,
   "metadata": {},
   "outputs": [
    {
     "data": {
      "text/plain": [
       "['12/04/20', '01/01/20', '31/03/20', '23/45/67']"
      ]
     },
     "execution_count": 25,
     "metadata": {},
     "output_type": "execute_result"
    }
   ],
   "source": [
    "text = \"\"\"\n",
    "Today's date is 12/04/2025. The project started on 01/01/2024 and ended on 31/03/2025.\n",
    "Invalid dates like 123/45/6789 or 1/1/2020 should not match.\n",
    "\"\"\"\n",
    "\n",
    "pattern = r\"\\d{2}\\/\\d{2}\\/\\d{2}\"\n",
    "result=re.findall(pattern, text)\n",
    "result"
   ]
  },
  {
   "cell_type": "markdown",
   "metadata": {},
   "source": [
    "# Topic 5 :File Handling - Read, Write, Append"
   ]
  },
  {
   "cell_type": "markdown",
   "metadata": {},
   "source": [
    "### Task 1"
   ]
  },
  {
   "cell_type": "code",
   "execution_count": 26,
   "metadata": {},
   "outputs": [
    {
     "name": "stdout",
     "output_type": "stream",
     "text": [
      "Total character53\n",
      "Total words 10\n",
      "Total lines 7\n"
     ]
    }
   ],
   "source": [
    "with open(\"./data/test.txt\") as f:\n",
    "    content =f.read()\n",
    "    print(f\"Total character{len(content)}\")\n",
    "    print(f\"Total words {len(content.split())}\")\n",
    "    print(f\"Total lines {len(content.splitlines())}\")"
   ]
  },
  {
   "cell_type": "markdown",
   "metadata": {},
   "source": [
    "### Task 2"
   ]
  },
  {
   "cell_type": "code",
   "execution_count": 27,
   "metadata": {},
   "outputs": [
    {
     "name": "stdout",
     "output_type": "stream",
     "text": [
      "My name is Ram Kandel\n",
      "hora??\n",
      "sachi hora??\n",
      "la hora\n",
      "\n",
      "\n",
      "\n",
      "\n"
     ]
    }
   ],
   "source": [
    "with open(\"./data/test.txt\", \"r\") as f:\n",
    "    # f.seek(0)\n",
    "    content = f.read()\n",
    "    # content=content.replace(\"Tilak\", \"Ram\")\n",
    "    print(content)\n",
    "\n",
    "with open(\"./data/test.txt\", \"w\") as f:\n",
    "    content=content.replace(\"Tilak\", \"Ram\")\n",
    "    f.write(content)\n",
    " "
   ]
  },
  {
   "cell_type": "markdown",
   "metadata": {},
   "source": [
    "### Task 3"
   ]
  },
  {
   "cell_type": "code",
   "execution_count": 28,
   "metadata": {},
   "outputs": [],
   "source": [
    "from datetime import datetime\n",
    "now = datetime.now()\n",
    "with open(\"./data/log.txt\", \"a+\") as f:\n",
    "    f.write(f\"\"\"\\nRunning code {now.strftime(\"%Y-%m-%d %H-%M-%S\")}\"\"\") "
   ]
  },
  {
   "cell_type": "markdown",
   "metadata": {},
   "source": [
    "# Task 4"
   ]
  },
  {
   "cell_type": "code",
   "execution_count": 29,
   "metadata": {},
   "outputs": [],
   "source": [
    "# create large file\n",
    "def create_large_file(filepath, repeat=1024):\n",
    "    with open(filepath, \"w\")  as f:\n",
    "        for _ in range(repeat):\n",
    "            f.write(\"This is our large file.\")\n",
    "\n",
    "create_large_file(\"./data/large_file.txt\")\n"
   ]
  },
  {
   "cell_type": "code",
   "execution_count": 30,
   "metadata": {},
   "outputs": [],
   "source": [
    "# implement the chunk\n",
    "def chunk_fetch(filename, chunk_size, keyword):\n",
    "    buffer=\"\"\n",
    "    with open(filename, \"r\") as f:\n",
    "        while True:\n",
    "            chunk_data=f.read(chunk_size)\n",
    "            if not chunk_data:\n",
    "                break\n",
    "            buffer+=chunk_data\n",
    "            lines=buffer.split(\"\\n\")\n",
    "\n",
    "            #let's keep the last line which might be incomplete\n",
    "            buffer=lines.pop()\n",
    "\n",
    "            for line in lines:\n",
    "                if keyword in line:\n",
    "                    yield line\n",
    "\n",
    "            \n",
    "\n",
    "\n",
    "filename=\"./data/large_file.txt\"\n",
    "for line in chunk_fetch(filename, 1024, \"test\"):\n",
    "    print(line)"
   ]
  },
  {
   "cell_type": "code",
   "execution_count": 31,
   "metadata": {},
   "outputs": [
    {
     "name": "stdout",
     "output_type": "stream",
     "text": [
      "Chunk 1\n",
      "True\n",
      "large file.This is our large\n",
      "['Chunk 1', 'True', 'large file.This is our large']\n",
      "Chunk 1\n",
      "True\n",
      "large file.This is our large\n",
      "large file.This is our large\n"
     ]
    }
   ],
   "source": [
    "str=\"\"\"Chunk 1\n",
    "True\n",
    "large file.This is our large\"\"\"\n",
    "print(str)\n",
    "lines=str.split(\"\\n\")\n",
    "print(lines)\n",
    "print(str)\n",
    "str=lines.pop()\n",
    "print(str)"
   ]
  },
  {
   "cell_type": "markdown",
   "metadata": {},
   "source": [
    "# Topic 6: Python Modules & Importing"
   ]
  },
  {
   "cell_type": "markdown",
   "metadata": {},
   "source": [
    "### TAsk 1"
   ]
  },
  {
   "cell_type": "code",
   "execution_count": 32,
   "metadata": {},
   "outputs": [
    {
     "data": {
      "text/plain": [
       "True"
      ]
     },
     "execution_count": 32,
     "metadata": {},
     "output_type": "execute_result"
    }
   ],
   "source": [
    "import math\n",
    "num=5.55\n",
    "math.log(num)\n",
    "math.sqrt(num)\n",
    "math.fabs(-777.77)\n",
    "math.sin(num)\n",
    "math.sinh(num)\n",
    "math.exp(num)\n",
    "math.ceil(5.02)\n",
    "math.isfinite(555)\n"
   ]
  },
  {
   "cell_type": "markdown",
   "metadata": {},
   "source": [
    "### Task 2"
   ]
  },
  {
   "cell_type": "code",
   "execution_count": 39,
   "metadata": {},
   "outputs": [
    {
     "data": {
      "text/plain": [
       "True"
      ]
     },
     "execution_count": 39,
     "metadata": {},
     "output_type": "execute_result"
    }
   ],
   "source": [
    "from utilities import prime_checking, factorial, reversal\n",
    "str=\"I am checking\"\n",
    "reversal(str)\n",
    "prime_checking(13)"
   ]
  },
  {
   "cell_type": "markdown",
   "metadata": {},
   "source": [
    "### Task 3"
   ]
  },
  {
   "cell_type": "code",
   "execution_count": 48,
   "metadata": {},
   "outputs": [
    {
     "data": {
      "text/plain": [
       "263"
      ]
     },
     "execution_count": 48,
     "metadata": {},
     "output_type": "execute_result"
    }
   ],
   "source": [
    "from datetime import datetime, date\n",
    "now = datetime.now()\n",
    "now.day\n",
    "now.hour\n",
    "now.second\n",
    "now.minute\n",
    "next_year=date(now.year, 12, 31)\n",
    "date_difference=(next_year-now.date()).days\n",
    "date_difference"
   ]
  },
  {
   "cell_type": "markdown",
   "metadata": {},
   "source": [
    "### Task 4"
   ]
  },
  {
   "cell_type": "code",
   "execution_count": 50,
   "metadata": {},
   "outputs": [
    {
     "data": {
      "text/plain": [
       "[76, 73, 41, 70, 44, 51, 30, 41, 17, 51]"
      ]
     },
     "execution_count": 50,
     "metadata": {},
     "output_type": "execute_result"
    }
   ],
   "source": [
    "import random\n",
    "list=[random.randint(10, 100) for _ in range(10)]\n",
    "list"
   ]
  },
  {
   "cell_type": "markdown",
   "metadata": {},
   "source": [
    "### Task 5"
   ]
  },
  {
   "cell_type": "code",
   "execution_count": 54,
   "metadata": {},
   "outputs": [
    {
     "data": {
      "text/plain": [
       "{'data': 4.0, 'all_in_one.ipynb': 4.0, '__pycache__': 4.0, 'utilities.py': 4.0}"
      ]
     },
     "execution_count": 54,
     "metadata": {},
     "output_type": "execute_result"
    }
   ],
   "source": [
    "import os\n",
    "all_files=os.listdir()\n",
    "# os.path.getsize(\"data\")\n",
    "file_size={}\n",
    "for file in all_files:\n",
    "    file_size[file] = (os.path.getsize(\"data\"))/1024\n",
    "file_size\n"
   ]
  }
 ],
 "metadata": {
  "kernelspec": {
   "display_name": "tech-axis",
   "language": "python",
   "name": "python3"
  },
  "language_info": {
   "codemirror_mode": {
    "name": "ipython",
    "version": 3
   },
   "file_extension": ".py",
   "mimetype": "text/x-python",
   "name": "python",
   "nbconvert_exporter": "python",
   "pygments_lexer": "ipython3",
   "version": "3.11.11"
  }
 },
 "nbformat": 4,
 "nbformat_minor": 2
}
