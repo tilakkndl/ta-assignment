{
 "cells": [
  {
   "cell_type": "markdown",
   "metadata": {},
   "source": [
    "#Task 1"
   ]
  },
  {
   "cell_type": "code",
   "execution_count": 1,
   "metadata": {},
   "outputs": [
    {
     "name": "stdout",
     "output_type": "stream",
     "text": [
      "Hello ! Tilak. Your age is 22\n"
     ]
    }
   ],
   "source": [
    "name=input(\"Enter your name\")\n",
    "age = int(input(\"Enter your age\"))\n",
    "def greet(name, age):\n",
    "    print(f\"Hello ! {name}. Your age is {age}\")\n",
    "greet(name, age)"
   ]
  },
  {
   "cell_type": "markdown",
   "metadata": {},
   "source": [
    "#Task 2\n"
   ]
  },
  {
   "cell_type": "code",
   "execution_count": 3,
   "metadata": {},
   "outputs": [
    {
     "name": "stdout",
     "output_type": "stream",
     "text": [
      "addition=8multiplication =15 substraction =2 division =1.6666666666666667 modulus =2 exponential =125  floor_division =1\n"
     ]
    }
   ],
   "source": [
    "num1=int(input(\"Enter first number\"))\n",
    "num2=int(input(\"Enter your second number\"))\n",
    "#addition\n",
    "addition=num1+num2\n",
    "#substaction\n",
    "substraction=num1-num2\n",
    "#division\n",
    "division=num1/num2\n",
    "#multiplication\n",
    "multiplication=num1*num2\n",
    "#modulus\n",
    "modulus=num1%num2\n",
    "#exponential\n",
    "exponential=num1**num2\n",
    "#floor_division\n",
    "floor_division=num1//num2\n",
    "print(f\"{addition=}{multiplication =} {substraction =} {division =} {modulus =} {exponential =} { floor_division =}\")"
   ]
  },
  {
   "cell_type": "code",
   "execution_count": 4,
   "metadata": {},
   "outputs": [
    {
     "name": "stdout",
     "output_type": "stream",
     "text": [
      "6\n",
      "7\n",
      "-8\n",
      "-7\n"
     ]
    }
   ],
   "source": [
    "#Task 3\n",
    "a=7\n",
    "b=6\n",
    "#bitwise and\n",
    "print(a&b)\n",
    "#bitwise or\n",
    "print(a|b)\n",
    "#bitwise not for a\n",
    "print(~a)\n",
    "#bitwise not for b\n",
    "print(~b)"
   ]
  },
  {
   "cell_type": "code",
   "execution_count": 8,
   "metadata": {},
   "outputs": [
    {
     "name": "stdout",
     "output_type": "stream",
     "text": [
      "Zero\n"
     ]
    }
   ],
   "source": [
    "#Task 4\n",
    "num=int(input(\"Enter a number\"))\n",
    "if num>0:\n",
    "    print(\"Positive number\")\n",
    "elif(num<0):\n",
    "    print(\"Negative Number\")\n",
    "else:\n",
    "    print(\"Zero\")\n"
   ]
  },
  {
   "cell_type": "code",
   "execution_count": 12,
   "metadata": {},
   "outputs": [
    {
     "data": {
      "text/plain": [
       "1275"
      ]
     },
     "execution_count": 12,
     "metadata": {},
     "output_type": "execute_result"
    }
   ],
   "source": [
    "#TAsk 5\n",
    "sum=0\n",
    "for num in range(51):\n",
    "    sum+=num\n",
    "sum"
   ]
  },
  {
   "cell_type": "code",
   "execution_count": null,
   "metadata": {},
   "outputs": [
    {
     "data": {
      "text/plain": [
       "[-4, -2, 0, 2, 4]"
      ]
     },
     "execution_count": 13,
     "metadata": {},
     "output_type": "execute_result"
    }
   ],
   "source": [
    "#TAsk 6\n",
    "even = [num for num in range(-5,6) if num%2==0]\n",
    "even"
   ]
  },
  {
   "cell_type": "code",
   "execution_count": null,
   "metadata": {},
   "outputs": [
    {
     "name": "stdout",
     "output_type": "stream",
     "text": [
      "Your actual password is Tilak123 and entered password is Tilak123. Your password is correct\n"
     ]
    }
   ],
   "source": [
    "#TAsk 7\n",
    "actual_password=\"Tilak123\"\n",
    "entered_password=\"\"\n",
    "while(actual_password!=entered_password):\n",
    "    entered_password=input(\"Enter your password\")\n",
    "print(f\"Your actual password is {actual_password} and entered password is {entered_password}. Your password is correct.\")"
   ]
  },
  {
   "cell_type": "code",
   "execution_count": 15,
   "metadata": {},
   "outputs": [
    {
     "name": "stdout",
     "output_type": "stream",
     "text": [
      "sum=3 difference= 1 product= 2\n"
     ]
    }
   ],
   "source": [
    "#Task 8\n",
    "def arithmetic_calculation(a: int, b:int):\n",
    "    return a+b,a-b,a*b\n",
    "sum,difference,product=arithmetic_calculation(2,1)\n",
    "print(f\"{sum=} {difference= } {product= }\")"
   ]
  },
  {
   "cell_type": "code",
   "execution_count": 17,
   "metadata": {},
   "outputs": [
    {
     "name": "stdout",
     "output_type": "stream",
     "text": [
      "square = 9\n"
     ]
    }
   ],
   "source": [
    "#TAsk 9\n",
    "square_calculator= lambda a:a**2\n",
    "print(f\"square = {square_calculator(3)}\")"
   ]
  },
  {
   "cell_type": "code",
   "execution_count": 21,
   "metadata": {},
   "outputs": [
    {
     "name": "stdout",
     "output_type": "stream",
     "text": [
      "nummmmmber is zero\n",
      "Cleanup function\n"
     ]
    }
   ],
   "source": [
    "#Task 10\n",
    "a=10\n",
    "num=int(input(\"Enter a number\"))\n",
    "try:\n",
    "    division=a/num\n",
    "    print(f\"{division= }\")\n",
    "except(ZeroDivisionError):\n",
    "    print(\"nummmmmber is zero\")\n",
    "finally:\n",
    "    print(\"Cleanup function\")"
   ]
  },
  {
   "cell_type": "code",
   "execution_count": 28,
   "metadata": {},
   "outputs": [
    {
     "data": {
      "text/plain": [
       "5"
      ]
     },
     "execution_count": 28,
     "metadata": {},
     "output_type": "execute_result"
    }
   ],
   "source": [
    "#Task 11\n",
    "num = input(\"Enter a number\")\n",
    "is_numeric = num.isnumeric()\n",
    "if is_numeric:\n",
    "    num=int(num)\n",
    "else:\n",
    "    print(\"You entered non-numeric string\")\n",
    "is_int=isinstance(num, int)\n",
    "if not is_int:\n",
    "    raise Exception(\"The number should be integer\")\n",
    "num"
   ]
  },
  {
   "cell_type": "code",
   "execution_count": null,
   "metadata": {},
   "outputs": [
    {
     "data": {
      "text/plain": [
       "1.0"
      ]
     },
     "execution_count": 32,
     "metadata": {},
     "output_type": "execute_result"
    }
   ],
   "source": [
    "#Task 12\n",
    "# python\n",
    "# def divide(a, b):\n",
    "# return a / b\n",
    "\n",
    "#refined function\n",
    "def divide(a:int, b: int):\n",
    "    '''Returns result by dividing a by b\n",
    "    \n",
    "    Args:\n",
    "    a (float or int): Numerator\n",
    "    b (float or int): Denominator\n",
    "\n",
    "    Returns:\n",
    "    float: result of division\n",
    "\n",
    "    Raises:\n",
    "    ZeroDivisionError: if denominator is zero\n",
    "    TypeError: if a and b are not int or float\n",
    "    '''\n",
    "    try:\n",
    "        division=a/b\n",
    "        return division\n",
    "    except ZeroDivisionError:\n",
    "        print(\"division by zero is invalid\")\n",
    "    except TypeError:\n",
    "        print(\"Both needs to be integer\")\n",
    "divide(5,5.0)\n",
    "\n",
    "#The previous function was inside '''''' but it shouldn't be. Instead it should be used to give information about function. Also there is python word which is not required and it should also handle exception for zero denominator and type error."
   ]
  }
 ],
 "metadata": {
  "kernelspec": {
   "display_name": "tech-axis",
   "language": "python",
   "name": "python3"
  },
  "language_info": {
   "codemirror_mode": {
    "name": "ipython",
    "version": 3
   },
   "file_extension": ".py",
   "mimetype": "text/x-python",
   "name": "python",
   "nbconvert_exporter": "python",
   "pygments_lexer": "ipython3",
   "version": "3.11.11"
  }
 },
 "nbformat": 4,
 "nbformat_minor": 2
}
